{
 "cells": [
  {
   "cell_type": "code",
   "execution_count": 2,
   "metadata": {},
   "outputs": [
    {
     "name": "stdout",
     "output_type": "stream",
     "text": [
      "Reading raw/NPORadio2Top2000-2022.xlsx...\n",
      "['Bohemian Rhapsody', 'Queen', 1975, 2022, 1]\n",
      "['Roller Coaster', 'Danny Vera', 2019, 2022, 2]\n",
      "['Hotel California', 'Eagles', 1977, 2022, 3]\n",
      "['Piano Man', 'Billy Joel', 1974, 2022, 4]\n",
      "['Fix You', 'Coldplay', 2005, 2022, 5]\n",
      "...\n",
      "['Charlie Brown', 'Coldplay', 2011, 2022, 1996]\n",
      "['Beast Of Burden', 'Bette Midler', 1984, 2022, 1997]\n",
      "['It Was A Very Good Year', 'Frank Sinatra', 1968, 2022, 1998]\n",
      "['Hou Van Mij', '3JS', 2008, 2022, 1999]\n",
      "['Drivers License', 'Olivia Rodrigo', 2021, 2022, 2000]\n",
      "2000\n"
     ]
    }
   ],
   "source": [
    "from reader.TT2022Reader import TT2022Reader\n",
    "\n",
    "count = 0\n",
    "hasPrintedDots = False\n",
    "for row in TT2022Reader():\n",
    "    count+=1\n",
    "    if row[4] <= 5 or row[4] > 1995:\n",
    "        print(row)\n",
    "    else:\n",
    "        if not hasPrintedDots:\n",
    "            print('...')\n",
    "            hasPrintedDots = True\n",
    "print(count)"
   ]
  },
  {
   "cell_type": "code",
   "execution_count": 2,
   "metadata": {},
   "outputs": [
    {
     "name": "stdout",
     "output_type": "stream",
     "text": [
      "Reading raw/TOP-2000-2020.xlsx...\n",
      "['Roller Coaster', 'Danny Vera', 2019, 2020, 1]\n",
      "['Bohemian Rhapsody', 'Queen', 1975, 2020, 2]\n",
      "['Hotel California', 'Eagles', 1977, 2020, 3]\n",
      "['Piano Man', 'Billy Joel', 1974, 2020, 4]\n",
      "['Stairway To Heaven', 'Led Zeppelin', 1971, 2020, 5]\n",
      "...\n",
      "['Zondag', 'Rob de Nijs', 1980, 2020, 1996]\n",
      "['Atmosphere', 'Joy Division', 1979, 2020, 1997]\n",
      "['Laat Mij Maar Alleen', 'Klein Orkest', 1982, 2020, 1998]\n",
      "['Sweet Jane', 'Lou Reed', 1974, 2020, 1999]\n",
      "[\"Can't Get It Out Of My Head\", 'Electric Light Orchestra', 1975, 2020, 2000]\n",
      "2000\n"
     ]
    }
   ],
   "source": [
    "from reader.TT2020Reader import TT2020Reader\n",
    "\n",
    "count = 0\n",
    "hasPrintedDots = False\n",
    "for row in TT2020Reader():\n",
    "    count+=1\n",
    "    if row[4] <= 5 or row[4] > 1995:\n",
    "        print(row)\n",
    "    else:\n",
    "        if not hasPrintedDots:\n",
    "            print('...')\n",
    "            hasPrintedDots = True\n",
    "print(count)"
   ]
  },
  {
   "cell_type": "code",
   "execution_count": 1,
   "metadata": {},
   "outputs": [
    {
     "name": "stdout",
     "output_type": "stream",
     "text": [
      "Reading raw/TOP-2000-2019.xlsx...\n",
      "['Bohemian Rhapsody', 'Queen', 1975, 2019, 1]\n",
      "['Hotel California', 'Eagles', 1977, 2019, 2]\n",
      "['Piano Man', 'Billy Joel', 1974, 2019, 3]\n",
      "['Roller Coaster', 'Danny Vera', 2019, 2019, 4]\n",
      "['Stairway To Heaven', 'Led Zeppelin', 1971, 2019, 5]\n",
      "...\n",
      "[\"Let's Get It On\", 'Marvin Gaye', 1973, 2019, 1996]\n",
      "['Grounds For Divorce', 'Elbow', 2008, 2019, 1997]\n",
      "['Water Of Love', 'Dire Straits', 1978, 2019, 1998]\n",
      "['Violet Hill', 'Coldplay', 2008, 2019, 1999]\n",
      "['Suite: Judy Blue Eyes', 'Crosby, Stills & Nash', 1969, 2019, 2000]\n",
      "2000\n"
     ]
    }
   ],
   "source": [
    "from reader.TT2019Reader import TT2019Reader\n",
    "\n",
    "count = 0\n",
    "hasPrintedDots = False\n",
    "for row in TT2019Reader():\n",
    "    count+=1\n",
    "    if row[4] <= 5 or row[4] > 1995:\n",
    "        print(row)\n",
    "    else:\n",
    "        if not hasPrintedDots:\n",
    "            print('...')\n",
    "            hasPrintedDots = True\n",
    "print(count)"
   ]
  },
  {
   "cell_type": "code",
   "execution_count": 4,
   "metadata": {},
   "outputs": [
    {
     "name": "stdout",
     "output_type": "stream",
     "text": [
      "Reading raw/TOP-2000-2018.xlsx...\n",
      "['Bohemian Rhapsody', 'Queen', 1975, 2018, 1]\n",
      "['Hotel California', 'Eagles', 1977, 2018, 2]\n",
      "['Piano Man', 'Billy Joel', 1974, 2018, 3]\n",
      "['Stairway To Heaven', 'Led Zeppelin', 1971, 2018, 4]\n",
      "['Wish You Were Here', 'Pink Floyd', 1975, 2018, 5]\n",
      "...\n",
      "['Let It Go', 'James Bay', 2015, 2018, 1996]\n",
      "[\"Isn't It Time\", 'Babys', 1977, 2018, 1997]\n",
      "['Stop This Train', 'John Mayer', 2006, 2018, 1998]\n",
      "['What Is Love', 'Haddaway', 1993, 2018, 1999]\n",
      "['Teardrops', 'Womack & Womack', 1988, 2018, 2000]\n",
      "2000\n"
     ]
    }
   ],
   "source": [
    "from reader.TT2018Reader import TT2018Reader\n",
    "\n",
    "count = 0\n",
    "hasPrintedDots = False\n",
    "for row in TT2018Reader():\n",
    "    count+=1\n",
    "    if row[4] <= 5 or row[4] > 1995:\n",
    "        print(row)\n",
    "    else:\n",
    "        if not hasPrintedDots:\n",
    "            print('...')\n",
    "            hasPrintedDots = True\n",
    "print(count)"
   ]
  },
  {
   "cell_type": "code",
   "execution_count": 5,
   "metadata": {},
   "outputs": [
    {
     "name": "stdout",
     "output_type": "stream",
     "text": [
      "Reading raw/TOP-2000-2017.xlsx...\n",
      "['Bohemian Rhapsody', 'Queen', 1975, 2017, 1]\n",
      "['Hotel California', 'Eagles', 1977, 2017, 2]\n",
      "['Stairway To Heaven', 'Led Zeppelin', 1971, 2017, 3]\n",
      "['Piano Man', 'Billy Joel', 1974, 2017, 4]\n",
      "['Child In Time', 'Deep Purple', 1972, 2017, 5]\n",
      "...\n",
      "['Soul Man', 'Sam & Dave', 1967, 2017, 1996]\n",
      "['Fools Gold', 'Stone Roses', 1990, 2017, 1997]\n",
      "['When You Say Nothing At All', 'Ronan Keating', 1999, 2017, 1998]\n",
      "['Mr Rock & Roll', 'Amy MacDonald', 2008, 2017, 1999]\n",
      "[\"I'm Every Woman\", 'Chaka Khan', 1979, 2017, 2000]\n",
      "2000\n"
     ]
    }
   ],
   "source": [
    "from reader.TT2017Reader import TT2017Reader\n",
    "\n",
    "count = 0\n",
    "hasPrintedDots = False\n",
    "for row in TT2017Reader():\n",
    "    count+=1\n",
    "    if row[4] <= 5 or row[4] > 1995:\n",
    "        print(row)\n",
    "    else:\n",
    "        if not hasPrintedDots:\n",
    "            print('...')\n",
    "            hasPrintedDots = True\n",
    "print(count)"
   ]
  }
 ],
 "metadata": {
  "kernelspec": {
   "display_name": "Python 3 (ipykernel)",
   "language": "python",
   "name": "python3"
  },
  "language_info": {
   "codemirror_mode": {
    "name": "ipython",
    "version": 3
   },
   "file_extension": ".py",
   "mimetype": "text/x-python",
   "name": "python",
   "nbconvert_exporter": "python",
   "pygments_lexer": "ipython3",
   "version": "3.10.8"
  }
 },
 "nbformat": 4,
 "nbformat_minor": 4
}
