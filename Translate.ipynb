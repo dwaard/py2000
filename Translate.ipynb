{
 "cells": [
  {
   "cell_type": "code",
   "execution_count": 1,
   "id": "194292d9-3363-4a13-a674-faae8c34a221",
   "metadata": {},
   "outputs": [],
   "source": [
    "import pandas as pd\n",
    "import db\n",
    "import json\n",
    "from deep_translator import GoogleTranslator\n",
    "from deep_translator import (GoogleTranslator,\n",
    "                             batch_detection)"
   ]
  },
  {
   "cell_type": "code",
   "execution_count": 58,
   "id": "d1a705be-1d3f-4248-9823-61feef5d45ad",
   "metadata": {},
   "outputs": [
    {
     "data": {
      "text/html": [
       "<div>\n",
       "<style scoped>\n",
       "    .dataframe tbody tr th:only-of-type {\n",
       "        vertical-align: middle;\n",
       "    }\n",
       "\n",
       "    .dataframe tbody tr th {\n",
       "        vertical-align: top;\n",
       "    }\n",
       "\n",
       "    .dataframe thead th {\n",
       "        text-align: right;\n",
       "    }\n",
       "</style>\n",
       "<table border=\"1\" class=\"dataframe\">\n",
       "  <thead>\n",
       "    <tr style=\"text-align: right;\">\n",
       "      <th></th>\n",
       "      <th>rowid</th>\n",
       "      <th>artist</th>\n",
       "      <th>title</th>\n",
       "      <th>year</th>\n",
       "    </tr>\n",
       "  </thead>\n",
       "  <tbody>\n",
       "    <tr>\n",
       "      <th>0</th>\n",
       "      <td>1</td>\n",
       "      <td>1</td>\n",
       "      <td>Dreadlock Holiday</td>\n",
       "      <td>1978</td>\n",
       "    </tr>\n",
       "    <tr>\n",
       "      <th>1</th>\n",
       "      <td>2</td>\n",
       "      <td>1</td>\n",
       "      <td>I'm Not In Love (Albumversie)</td>\n",
       "      <td>1975</td>\n",
       "    </tr>\n",
       "    <tr>\n",
       "      <th>2</th>\n",
       "      <td>3</td>\n",
       "      <td>1</td>\n",
       "      <td>The Wall Street Shuffle</td>\n",
       "      <td>1974</td>\n",
       "    </tr>\n",
       "    <tr>\n",
       "      <th>3</th>\n",
       "      <td>4</td>\n",
       "      <td>1</td>\n",
       "      <td>I'm Mandy Fly Me</td>\n",
       "      <td>1976</td>\n",
       "    </tr>\n",
       "    <tr>\n",
       "      <th>4</th>\n",
       "      <td>5</td>\n",
       "      <td>1</td>\n",
       "      <td>Donna</td>\n",
       "      <td>1973</td>\n",
       "    </tr>\n",
       "  </tbody>\n",
       "</table>\n",
       "</div>"
      ],
      "text/plain": [
       "   rowid  artist                          title  year\n",
       "0      1       1              Dreadlock Holiday  1978\n",
       "1      2       1  I'm Not In Love (Albumversie)  1975\n",
       "2      3       1        The Wall Street Shuffle  1974\n",
       "3      4       1               I'm Mandy Fly Me  1976\n",
       "4      5       1                          Donna  1973"
      ]
     },
     "execution_count": 58,
     "metadata": {},
     "output_type": "execute_result"
    }
   ],
   "source": [
    "sql = \"\"\"\n",
    "SELECT ROWID, *\n",
    "FROM Song\n",
    "\"\"\"\n",
    "\n",
    "df = db.dataframe(sql)\n",
    "df.head()"
   ]
  },
  {
   "cell_type": "code",
   "execution_count": 59,
   "id": "a144eaf8-0e8c-49b5-92f5-01bab4c60042",
   "metadata": {},
   "outputs": [],
   "source": [
    "# load the existing data\n",
    "# Opening JSON file\n",
    "f = open('staged/cached_translations.json')\n",
    "\n",
    "# returns JSON object as \n",
    "# a dictionary\n",
    "output = json.load(f)\n",
    "f.close()"
   ]
  },
  {
   "cell_type": "code",
   "execution_count": 60,
   "id": "7371997b-2529-4359-94a7-c065560903ce",
   "metadata": {},
   "outputs": [
    {
     "name": "stdout",
     "output_type": "stream",
     "text": [
      "There are 668 titles to translate\n"
     ]
    }
   ],
   "source": [
    "titles = []\n",
    "for row in db.raw_sql(sql):\n",
    "    title = row[2]\n",
    "    if title not in output and not title.isnumeric():\n",
    "        titles.append(title)\n",
    "print('There are %d titles to translate' % len(titles))"
   ]
  },
  {
   "cell_type": "code",
   "execution_count": 61,
   "id": "f385a4b3-b738-41db-b472-a7d90c508fa6",
   "metadata": {},
   "outputs": [],
   "source": [
    "if len(titles) > 0:\n",
    "    translations = GoogleTranslator(source='auto', target='en').translate_batch(titles)\n",
    "    for i in range(len(titles)):\n",
    "        title = titles[i]\n",
    "        translation = translations[i]\n",
    "        language = 'en' if title==translation else 'other'\n",
    "        output[title] = {\n",
    "            \"language\": language,\n",
    "            \"translation\": translation\n",
    "        }\n"
   ]
  },
  {
   "cell_type": "code",
   "execution_count": 62,
   "id": "84bb5ffa-2ceb-4dc8-9dc4-22b98d81e68b",
   "metadata": {},
   "outputs": [
    {
     "name": "stdout",
     "output_type": "stream",
     "text": [
      "['Iedereen Is Van De Wereld', 'Blauw', 'This Charming Man  ', \"Baba O'Riley\", '24 Rozen', \"Mien, Waar Is M'n Feestneus\", 'Stiekem Gedanst', 'Mushanga', 'Pamela (Albumversie)', \"L'Italiano\", 'Gente Di Mare', 'De Zee', 'Nu Dat Jij Er Bent', 'Met Hart en Ziel', 'Vanmorgen Vloog Ze Nog', 'Wer Bisto', 'Rendez-Vous 6:02', 'Ti Amo', 'Het Kleine Cafe Aan De Haven', 'Stil In Mij', 'Laat Het Los', 'Wanhoop Niet', 'Meer Dan Een Ander', 'Ik Wou Dat Ik Jou Was', 'Apres Toi', 'Een Kopje Koffie', 'Hou Me Vast', 'Alane', 'Ik Ben Zo Eenzaam Zonder Jou', 'Telkens Weer', 'Samen Zijn', 'Spiegelbeeld', 'De Glimlach Van Een Kind', 'Het Dorp', 'Flappie', 'Durgerdam Slaapt', 'Il Volo', 'Senza Una Donna', 'Cosi Celeste', 'Ik Heb Genoeg Van Jou', 'La Comparsa', 'La Grange', 'Parijs', 'Hemel Valt', 'Zandloper', 'Freestyler', 'Killing Moon ', 'Stan (Albumversie)', \"L'amour Toujours\", 'Het Land Van', 'Buddy Holly  ', 'Reflektor', 'Treur Niet (Ode Aan Het Leven)', 'Zoutelande', 'Despacito', 'Iederene Hef Een Reden', 'Kold Bloed', 'Leef', 'Duurt Te Lang', 'Atemlos Durch Die Nacht', \"Comptine D'un Autre Ete, L'apres Midi (Amelie)\", 'Major Tom (Völlig Losgelöst)', 'Slapeloze Nachten', 'Reünie', 'Kleur', 'Blauwe Dag', 'Als Het Avond Is', 'Goud', 'Weg Van Jou', 'Onderweg Naar Later', 'Dromen In Kleur', 'Élan (Albumversie)', 'Lekker Op De Trekker', 'Het Het Nog Nooit Zo Donker West', 'De Zon Op', 'Jerusalema', 'Ze Huilt Maar Ze Lacht', 'Hoe Het Danst', 'Zij Weet Het', 'Pa Olvidarte', 'Señorita', 'King Kunta', 'Stapelgek', 'Je Blik Richting Mij', 'Is Dat Nou Echt?', 'Zitti E Buoni', 'Dat Heb Jij Gedaan', 'De Overkant', 'Links Rechts', '17 Miljoen Mensen', 'Nu Wij Niet Meer Praten', 'Grijs', 'Wy Kam Fram Fryslân', 'De Diepte', 'Adem Je In', 'Noodgeval', 'Ik Wil Dansen', 'Niets Tussen', 'Een Teken', 'Blijven Slapen', 'Als Ik Je Weer Zie', 'Bon Gepakt', 'Mis Je Zo Graag']\n"
     ]
    }
   ],
   "source": [
    "others = {k:v for k, v in output.items() if v['language']=='other'}\n",
    "\n",
    "keyset = list(others.keys())\n",
    "print(keyset)"
   ]
  },
  {
   "cell_type": "code",
   "execution_count": 63,
   "id": "5caff8c0-c8b0-4ab3-93fa-1e1d1431f598",
   "metadata": {},
   "outputs": [
    {
     "name": "stdout",
     "output_type": "stream",
     "text": [
      "['nl', 'nl', 'en', 'en', 'tr', 'nl', 'nl', 'no', 'nl', 'it', 'pt', 'en', 'nl', 'nl', 'nl', 'pl', 'fr', 'es', 'nl', 'sl', 'nl', 'nl', 'af', 'nl', 'pt', 'nl', 'nl', 'pt', 'nl', 'nl', 'nl', 'nl', 'nl', 'nl', 'da', 'nl', 'it', 'it', 'pt', 'nl', 'es', 'en', 'nl', 'af', 'nl', 'en', 'en', 'nl', 'fr', 'no', 'en', 'de', 'nl', 'nl', 'en', 'nl', 'af', 'nl', 'nl', 'de', 'fr', 'de', 'nl', 'nl', 'nl', 'nl', 'nl', 'nl', 'af', 'nl', 'nl', 'nl', 'af', 'af', 'nl', 'cs', 'nl', 'nl', 'nl', 'es', 'es', 'cs', 'nl', 'nl', 'en', 'it', 'nl', 'da', 'en', 'nl', 'nl', 'nl', 'fy', 'nl', 'nl', 'nl', 'nl', 'nl', 'nl', 'nl', 'nl', 'nl', 'nl']\n"
     ]
    }
   ],
   "source": [
    "\n",
    "lang = batch_detection(keyset, api_key='8377a84551921b28dd1130147e8dc025')\n",
    "print(lang) # output: [fr, en]\n"
   ]
  },
  {
   "cell_type": "code",
   "execution_count": 64,
   "id": "f46e9e36-fc9b-4897-9180-d0ea58988120",
   "metadata": {},
   "outputs": [],
   "source": [
    "for i in range(len(keyset)):\n",
    "    key = keyset[i]\n",
    "    language = lang[i]\n",
    "    output[key]['language'] = language"
   ]
  },
  {
   "cell_type": "code",
   "execution_count": 65,
   "id": "d42d4e88-0d7d-47d3-95a2-ac119052a309",
   "metadata": {},
   "outputs": [],
   "source": [
    "json_object = json.dumps(output, indent = 2)\n",
    "with open(\"staged/cached_translations.json\", \"w\") as outfile:\n",
    "    outfile.write(json_object)\n"
   ]
  },
  {
   "cell_type": "code",
   "execution_count": null,
   "id": "8cad6ee4-524b-4398-9e51-313338e3f885",
   "metadata": {},
   "outputs": [],
   "source": []
  }
 ],
 "metadata": {
  "kernelspec": {
   "display_name": "Python 3 (ipykernel)",
   "language": "python",
   "name": "python3"
  },
  "language_info": {
   "codemirror_mode": {
    "name": "ipython",
    "version": 3
   },
   "file_extension": ".py",
   "mimetype": "text/x-python",
   "name": "python",
   "nbconvert_exporter": "python",
   "pygments_lexer": "ipython3",
   "version": "3.10.8"
  }
 },
 "nbformat": 4,
 "nbformat_minor": 5
}
