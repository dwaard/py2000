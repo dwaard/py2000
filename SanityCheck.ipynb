{
 "cells": [
  {
   "cell_type": "markdown",
   "id": "b8214fff-cdd2-4974-8229-01fcc2c590e9",
   "metadata": {},
   "source": [
    "# Sanity check\n",
    "Checks om de kwaliteit van de database te controleren"
   ]
  },
  {
   "cell_type": "code",
   "execution_count": 8,
   "id": "61ddc00f-4421-495e-9405-465638d3801c",
   "metadata": {},
   "outputs": [],
   "source": [
    "import Levenshtein\n",
    "import db"
   ]
  },
  {
   "cell_type": "markdown",
   "id": "70197182-07f0-4d61-becf-409cb0d1e5d8",
   "metadata": {},
   "source": [
    "## Artists\n",
    "Vergelijk artist namen en breng similarities in kaart"
   ]
  },
  {
   "cell_type": "code",
   "execution_count": 14,
   "id": "396ce6ed-8f2f-47a7-94cf-bb886f5b636c",
   "metadata": {},
   "outputs": [
    {
     "name": "stdout",
     "output_type": "stream",
     "text": [
      "32 Al Stewart <=> Amii Stewart : 0.8181818181818181\n",
      "39 Alessi Brothers <=> Blues Brothers : 0.8275862068965517\n",
      "66 André Hazes <=> André Hazes Jr. : 0.8461538461538461\n",
      "239 Buena Vista Social Club <=> Coldplay & Buena Vista Social Club : 0.8070175438596492\n",
      "259 Cat Stevens <=> Ray Stevens : 0.8181818181818181\n",
      "391 DeBarge <=> El DeBarge : 0.8235294117647058\n",
      "465 Edwin Hawkins Singers <=> Melanie & Edwin Hawkins Singers : 0.8076923076923077\n",
      "595 George McCrae <=> George Michael : 0.8148148148148149\n",
      "679 Herman van Keeken <=> Herman van Veen : 0.875\n",
      "713 The Isley Brothers <=> The Everly Brothers : 0.8108108108108107\n",
      "713 The Isley Brothers <=> The Walker Brothers : 0.8108108108108107\n",
      "713 The Isley Brothers <=> The Teskey Brothers : 0.8648648648648649\n",
      "740 Janet Jackson <=> Jermaine Jackson : 0.8275862068965517\n",
      "740 Janet Jackson <=> Joe Jackson : 0.8333333333333334\n",
      "794 John Lennon <=> John Leyton : 0.8181818181818181\n",
      "811 Johnny Cash <=> Johnny Nash : 0.9090909090909091\n",
      "816 Johnny Lion <=> Johnny Logan : 0.8695652173913043\n",
      "855 Kane <=> Keane : 0.8888888888888888\n",
      "1021 Marco Borsato <=> Marco Borsato & Do : 0.8387096774193549\n",
      "1022 Marco Borsato & Ali B <=> Marco Borsato & Do : 0.8205128205128205\n",
      "1079 MFSB & The Three Degrees <=> The Three Degrees : 0.8292682926829268\n",
      "1165 Nielson <=> Nilsson : 0.8571428571428572\n",
      "1395 Sade <=> Slade : 0.8888888888888888\n",
      "1585 The Doors <=> The Motors : 0.8421052631578947\n",
      "1718 Van Velzen <=> VanVelzen : 0.9473684210526316\n",
      "1760 Willeke Alberti <=> Willy Alberti : 0.8571428571428572\n"
     ]
    }
   ],
   "source": [
    "sql = \"\"\"\n",
    "    SELECT ROWID, name\n",
    "    FROM Artist\n",
    "\"\"\"\n",
    "artists = [row for row in db.raw_sql(sql)]\n",
    "\n",
    "while len(artists) > 0:\n",
    "    first = artists[0]\n",
    "    artists.remove(first)\n",
    "    for row2 in artists:                                                         \n",
    "        ratio = Levenshtein.ratio(first[1], row2[1])\n",
    "        if ratio > 0.8:\n",
    "            print(\"{} {} <=> {} : {}\".format(first[0], first[1], row2[1], ratio))"
   ]
  },
  {
   "cell_type": "code",
   "execution_count": null,
   "id": "255247f2-9af6-49aa-b70e-42d892fb57e2",
   "metadata": {},
   "outputs": [],
   "source": []
  }
 ],
 "metadata": {
  "kernelspec": {
   "display_name": "Python 3 (ipykernel)",
   "language": "python",
   "name": "python3"
  },
  "language_info": {
   "codemirror_mode": {
    "name": "ipython",
    "version": 3
   },
   "file_extension": ".py",
   "mimetype": "text/x-python",
   "name": "python",
   "nbconvert_exporter": "python",
   "pygments_lexer": "ipython3",
   "version": "3.10.8"
  }
 },
 "nbformat": 4,
 "nbformat_minor": 5
}
